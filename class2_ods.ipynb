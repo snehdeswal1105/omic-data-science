{
  "nbformat": 4,
  "nbformat_minor": 0,
  "metadata": {
    "colab": {
      "provenance": [],
      "authorship_tag": "ABX9TyOBsyOx7XcVt8Avmg6CNZlT",
      "include_colab_link": true
    },
    "kernelspec": {
      "name": "python3",
      "display_name": "Python 3"
    },
    "language_info": {
      "name": "python"
    }
  },
  "cells": [
    {
      "cell_type": "markdown",
      "metadata": {
        "id": "view-in-github",
        "colab_type": "text"
      },
      "source": [
        "<a href=\"https://colab.research.google.com/github/snehdeswal1105/omic-data-science/blob/main/class2_ods.ipynb\" target=\"_parent\"><img src=\"https://colab.research.google.com/assets/colab-badge.svg\" alt=\"Open In Colab\"/></a>"
      ]
    },
    {
      "cell_type": "code",
      "execution_count": 1,
      "metadata": {
        "colab": {
          "base_uri": "https://localhost:8080/"
        },
        "id": "4FQB6ZnZ5Ryn",
        "outputId": "42983c30-68e6-4dfa-aa01-d6b251441660"
      },
      "outputs": [
        {
          "name": "stdout",
          "output_type": "stream",
          "text": [
            "enter a number:12\n"
          ]
        }
      ],
      "source": [
        "num=input('enter a number:')"
      ]
    },
    {
      "cell_type": "code",
      "source": [
        "type(num)"
      ],
      "metadata": {
        "colab": {
          "base_uri": "https://localhost:8080/"
        },
        "id": "cJr-eGvA6na1",
        "outputId": "afd74608-7e56-4e26-9357-707b893d6026"
      },
      "execution_count": 2,
      "outputs": [
        {
          "output_type": "execute_result",
          "data": {
            "text/plain": [
              "str"
            ]
          },
          "metadata": {},
          "execution_count": 2
        }
      ]
    },
    {
      "cell_type": "code",
      "source": [
        "int(num)"
      ],
      "metadata": {
        "colab": {
          "base_uri": "https://localhost:8080/"
        },
        "id": "FFj42BSM6tiF",
        "outputId": "7ecfdfcd-4562-40f5-f286-cd2d140ec782"
      },
      "execution_count": 3,
      "outputs": [
        {
          "output_type": "execute_result",
          "data": {
            "text/plain": [
              "12"
            ]
          },
          "metadata": {},
          "execution_count": 3
        }
      ]
    },
    {
      "cell_type": "code",
      "source": [
        "float(num)"
      ],
      "metadata": {
        "colab": {
          "base_uri": "https://localhost:8080/"
        },
        "id": "945d_Gi26xRa",
        "outputId": "0562920f-ef78-48c5-ddec-7def8cbb3765"
      },
      "execution_count": 4,
      "outputs": [
        {
          "output_type": "execute_result",
          "data": {
            "text/plain": [
              "12.0"
            ]
          },
          "metadata": {},
          "execution_count": 4
        }
      ]
    },
    {
      "cell_type": "code",
      "source": [
        "round(12.8)"
      ],
      "metadata": {
        "colab": {
          "base_uri": "https://localhost:8080/"
        },
        "id": "D7E6FefK61rI",
        "outputId": "1ef52ad0-5cce-4e3f-8b9b-4832568c4f8c"
      },
      "execution_count": 5,
      "outputs": [
        {
          "output_type": "execute_result",
          "data": {
            "text/plain": [
              "13"
            ]
          },
          "metadata": {},
          "execution_count": 5
        }
      ]
    },
    {
      "cell_type": "code",
      "source": [
        "type(int(num))"
      ],
      "metadata": {
        "colab": {
          "base_uri": "https://localhost:8080/"
        },
        "id": "3WQ0mhdn7BV9",
        "outputId": "817de4d5-e526-43c2-fca0-8788c4eef0a0"
      },
      "execution_count": 6,
      "outputs": [
        {
          "output_type": "execute_result",
          "data": {
            "text/plain": [
              "int"
            ]
          },
          "metadata": {},
          "execution_count": 6
        }
      ]
    },
    {
      "cell_type": "code",
      "source": [
        "num=float(input('enter a number:'))"
      ],
      "metadata": {
        "colab": {
          "base_uri": "https://localhost:8080/"
        },
        "id": "Z-VWR1qq7L0X",
        "outputId": "de41bbc7-96c5-426c-a393-1646cfc6b06b"
      },
      "execution_count": 8,
      "outputs": [
        {
          "name": "stdout",
          "output_type": "stream",
          "text": [
            "enter a number:24\n"
          ]
        }
      ]
    },
    {
      "cell_type": "code",
      "source": [
        "[*range(1,100,1)]"
      ],
      "metadata": {
        "colab": {
          "base_uri": "https://localhost:8080/"
        },
        "id": "coaemU6z7bMY",
        "outputId": "0f9c8982-5a2d-449a-8034-84e2cfb8758d"
      },
      "execution_count": 10,
      "outputs": [
        {
          "output_type": "execute_result",
          "data": {
            "text/plain": [
              "[1,\n",
              " 2,\n",
              " 3,\n",
              " 4,\n",
              " 5,\n",
              " 6,\n",
              " 7,\n",
              " 8,\n",
              " 9,\n",
              " 10,\n",
              " 11,\n",
              " 12,\n",
              " 13,\n",
              " 14,\n",
              " 15,\n",
              " 16,\n",
              " 17,\n",
              " 18,\n",
              " 19,\n",
              " 20,\n",
              " 21,\n",
              " 22,\n",
              " 23,\n",
              " 24,\n",
              " 25,\n",
              " 26,\n",
              " 27,\n",
              " 28,\n",
              " 29,\n",
              " 30,\n",
              " 31,\n",
              " 32,\n",
              " 33,\n",
              " 34,\n",
              " 35,\n",
              " 36,\n",
              " 37,\n",
              " 38,\n",
              " 39,\n",
              " 40,\n",
              " 41,\n",
              " 42,\n",
              " 43,\n",
              " 44,\n",
              " 45,\n",
              " 46,\n",
              " 47,\n",
              " 48,\n",
              " 49,\n",
              " 50,\n",
              " 51,\n",
              " 52,\n",
              " 53,\n",
              " 54,\n",
              " 55,\n",
              " 56,\n",
              " 57,\n",
              " 58,\n",
              " 59,\n",
              " 60,\n",
              " 61,\n",
              " 62,\n",
              " 63,\n",
              " 64,\n",
              " 65,\n",
              " 66,\n",
              " 67,\n",
              " 68,\n",
              " 69,\n",
              " 70,\n",
              " 71,\n",
              " 72,\n",
              " 73,\n",
              " 74,\n",
              " 75,\n",
              " 76,\n",
              " 77,\n",
              " 78,\n",
              " 79,\n",
              " 80,\n",
              " 81,\n",
              " 82,\n",
              " 83,\n",
              " 84,\n",
              " 85,\n",
              " 86,\n",
              " 87,\n",
              " 88,\n",
              " 89,\n",
              " 90,\n",
              " 91,\n",
              " 92,\n",
              " 93,\n",
              " 94,\n",
              " 95,\n",
              " 96,\n",
              " 97,\n",
              " 98,\n",
              " 99]"
            ]
          },
          "metadata": {},
          "execution_count": 10
        }
      ]
    },
    {
      "cell_type": "code",
      "source": [
        "print([*range(1,100,1)])"
      ],
      "metadata": {
        "colab": {
          "base_uri": "https://localhost:8080/"
        },
        "id": "7ULWyo8j7lue",
        "outputId": "723c4128-cc91-4fa4-8785-649001c844a0"
      },
      "execution_count": 13,
      "outputs": [
        {
          "output_type": "stream",
          "name": "stdout",
          "text": [
            "[1, 2, 3, 4, 5, 6, 7, 8, 9, 10, 11, 12, 13, 14, 15, 16, 17, 18, 19, 20, 21, 22, 23, 24, 25, 26, 27, 28, 29, 30, 31, 32, 33, 34, 35, 36, 37, 38, 39, 40, 41, 42, 43, 44, 45, 46, 47, 48, 49, 50, 51, 52, 53, 54, 55, 56, 57, 58, 59, 60, 61, 62, 63, 64, 65, 66, 67, 68, 69, 70, 71, 72, 73, 74, 75, 76, 77, 78, 79, 80, 81, 82, 83, 84, 85, 86, 87, 88, 89, 90, 91, 92, 93, 94, 95, 96, 97, 98, 99]\n"
          ]
        }
      ]
    },
    {
      "cell_type": "code",
      "source": [
        "num=int(input('enter a number:'))\n",
        "if num in[*range(1,100,1)]:\n",
        "    print('great:)')\n",
        "else:\n",
        "    print('sorry, try again:(')"
      ],
      "metadata": {
        "colab": {
          "base_uri": "https://localhost:8080/"
        },
        "id": "qIVZtRyh72_2",
        "outputId": "6baf9f02-032d-4d91-eeb7-a312e62153ed"
      },
      "execution_count": 15,
      "outputs": [
        {
          "output_type": "stream",
          "name": "stdout",
          "text": [
            "enter a number:24\n",
            "great:)\n"
          ]
        }
      ]
    },
    {
      "cell_type": "code",
      "source": [
        "#marks obtained by students of a class[98,20,17,80,80,23]\n",
        "#[0-40]-F\n",
        "#[41-50]-E\n",
        "#[51-60]-D\n",
        "#[61-70]-c\n",
        "#[71-80]-B\n",
        "#[81-100]-A"
      ],
      "metadata": {
        "id": "kOje9lzf8aU6"
      },
      "execution_count": 16,
      "outputs": []
    },
    {
      "cell_type": "code",
      "source": [
        "marks=[98,20,17,80,80,23]\n",
        "for i in marks:\n",
        "  if (i>0) and (i<=40):\n",
        "    print('F')\n",
        "  elif (i>40) and (i<=50):\n",
        "      print('E')\n",
        "  elif (i>50) and (i<=60):\n",
        "       print('D')\n",
        "  elif (i>60) and (i<=70):\n",
        "       print('C')\n",
        "  elif (i>70) and (i<=80):\n",
        "        print('B')\n",
        "  else:\n",
        "        print('A')"
      ],
      "metadata": {
        "colab": {
          "base_uri": "https://localhost:8080/"
        },
        "id": "rJSXep9P9dyf",
        "outputId": "afbadc09-1217-49da-86b3-241968b67d58"
      },
      "execution_count": 34,
      "outputs": [
        {
          "output_type": "stream",
          "name": "stdout",
          "text": [
            "A\n",
            "F\n",
            "F\n",
            "B\n",
            "B\n",
            "F\n"
          ]
        }
      ]
    },
    {
      "cell_type": "code",
      "source": [
        "def Marks_to_grade(marks):\n",
        " grade= ''\n",
        " if (i>0) and (i<=40):\n",
        "    grade='F'\n",
        " elif (i>40) and (i<=50):\n",
        "      grade='E'\n",
        " elif (i>50) and (i<=60):\n",
        "       grade='D'\n",
        " elif (i>60) and (i<=70):\n",
        "       grade='C'\n",
        " elif (i>70) and (i<=80):\n",
        "        grade='B'\n",
        " else:\n",
        "        grade='A'\n",
        " return grade"
      ],
      "metadata": {
        "id": "F9fKh2cF-dJu"
      },
      "execution_count": null,
      "outputs": []
    },
    {
      "cell_type": "code",
      "source": [
        "for i in marks:\n",
        "  input('enter your marks: ')\n",
        "  print('Marks_to_grade(i)')"
      ],
      "metadata": {
        "colab": {
          "base_uri": "https://localhost:8080/"
        },
        "id": "1WlKn-j9AR_y",
        "outputId": "0ab73304-270a-4d67-d6ef-b19ff888e7f3"
      },
      "execution_count": null,
      "outputs": [
        {
          "metadata": {
            "tags": null
          },
          "name": "stdout",
          "output_type": "stream",
          "text": [
            "Marks_to_grade(i)\n",
            "Marks_to_grade(i)\n"
          ]
        }
      ]
    },
    {
      "cell_type": "code",
      "source": [
        "def Num_odd_or_even():\n",
        "num=input(float('enter any number:'))\n",
        "if (num%2==0):\n",
        "  print('even')\n",
        "else:\n",
        "  print('odd')\n",
        "except:\n",
        "  print('0 is neither odd nor even')\n",
        "return\n"
      ],
      "metadata": {
        "id": "WuTBtjCyA9CE"
      },
      "execution_count": null,
      "outputs": []
    },
    {
      "cell_type": "code",
      "source": [
        "Num_odd_or_even()"
      ],
      "metadata": {
        "id": "DAqMQ-j1Cuy3"
      },
      "execution_count": null,
      "outputs": []
    },
    {
      "cell_type": "code",
      "source": [
        "def Nature_of_number():\n",
        "  num=input(float('enter any number:'))\n",
        "  if (num>0):\n",
        "    print('positive')\n",
        "  elif (num<0):\n",
        "    print('negative')\n",
        "  else:\n",
        "    print('zero')\n",
        "  return"
      ],
      "metadata": {
        "id": "37bJP5uPDcW6"
      },
      "execution_count": null,
      "outputs": []
    },
    {
      "cell_type": "code",
      "source": [
        "Nature_of_number()"
      ],
      "metadata": {
        "id": "LjIWxD9vECmP"
      },
      "execution_count": null,
      "outputs": []
    },
    {
      "cell_type": "code",
      "source": [
        "def Divisiblity_by_2_3()\n",
        "num=input(float('enter any number:'))\n",
        "if (num%2==0) and (num%3==0):\n",
        "  print('divisible by 2 and 3')\n",
        "elif (num%2==0):\n",
        "  print('divisible by 2')\n",
        "elif (num%3==0):\n",
        "  print('divisible by 3')\n",
        "else:\n",
        "  print('not divisible')\n",
        "return"
      ],
      "metadata": {
        "id": "CE2s_27AEI56"
      },
      "execution_count": null,
      "outputs": []
    },
    {
      "cell_type": "code",
      "source": [
        "Divisiblity_by_2_3()"
      ],
      "metadata": {
        "id": "62eVxRiCExn6"
      },
      "execution_count": null,
      "outputs": []
    },
    {
      "cell_type": "code",
      "source": [
        "def Largest_of_three_numbers()\n",
        "num1=input(int(enter any number:))\n",
        "num2=input(int(enter any number:))\n",
        "num3=input(int(enter any number:))\n",
        "if (num1>num2) and (num1>num3):\n",
        "  print(num1 is largest)\n",
        "elif (num2>num1) and (num2>num3):\n",
        "  print(num2 is largest)\n",
        "else:\n",
        "  print(num3 is largest)\n",
        "return"
      ],
      "metadata": {
        "id": "nRZFDk81E2em"
      },
      "execution_count": null,
      "outputs": []
    },
    {
      "cell_type": "code",
      "source": [
        "Largest_of_three_numbers()"
      ],
      "metadata": {
        "id": "vGfyZmhPFlor"
      },
      "execution_count": null,
      "outputs": []
    },
    {
      "cell_type": "code",
      "source": [
        "#large number\n",
        "ls=[12,9,3]\n",
        "big=0\n",
        "for i in ls\n",
        "if big>i:\n",
        "  big=big\n",
        "else:\n",
        "  big=i\n",
        "  print('big')"
      ],
      "metadata": {
        "id": "wtxfPhdZFoPX"
      },
      "execution_count": null,
      "outputs": []
    },
    {
      "cell_type": "code",
      "source": [
        "big"
      ],
      "metadata": {
        "id": "pF2WSbw9GYdb"
      },
      "execution_count": null,
      "outputs": []
    },
    {
      "cell_type": "code",
      "source": [
        "#small number\n",
        "ls=[12,34,0,-8,56,84]\n",
        "small=999999999\n",
        "for i in ls:\n",
        "  if small<i:\n",
        "    small=small\n",
        "  else:\n",
        "    small=i\n",
        "print('small')"
      ],
      "metadata": {
        "id": "KNWp-0mcGeJ7"
      },
      "execution_count": null,
      "outputs": []
    },
    {
      "cell_type": "code",
      "source": [
        "small\n"
      ],
      "metadata": {
        "id": "2Yla3oI1HLEP"
      },
      "execution_count": null,
      "outputs": []
    },
    {
      "cell_type": "code",
      "source": [
        "# make function for ascending and descending number."
      ],
      "metadata": {
        "id": "hfd0o97oHQ-h"
      },
      "execution_count": null,
      "outputs": []
    },
    {
      "cell_type": "code",
      "source": [
        "biopython"
      ],
      "metadata": {
        "id": "kBWuzw0YHlFX"
      },
      "execution_count": null,
      "outputs": []
    },
    {
      "cell_type": "code",
      "source": [
        "from Bio import Entrez, SeqIO\n",
        "\n",
        "# Set your email (required by NCBI)\n",
        "Entrez.email = \"your_email@example.com\"  # Replace with your email\n",
        "\n",
        "def fetch_fasta(gene_name, organism=\"Homo sapiens\"):\n",
        "    \"\"\"Fetches the FASTA sequence of a gene from NCBI given the gene name and organism.\"\"\"\n",
        "    try:\n",
        "        # Step 1: Search the gene in NCBI Nucleotide database\n",
        "        search_handle = Entrez.esearch(db=\"nucleotide\", term=f\"{gene_name}[Gene] AND {organism}[Organism]\", retmax=1)\n",
        "        search_results = Entrez.read(search_handle)\n",
        "        search_handle.close()\n",
        "\n",
        "        if not search_results[\"IdList\"]:\n",
        "            print(f\"No sequence found for gene '{gene_name}' in {organism}.\")\n",
        "            return\n",
        "\n",
        "        # Step 2: Fetch the record\n",
        "        nucleotide_id = search_results[\"IdList\"][0]\n",
        "        fetch_handle = Entrez.efetch(db=\"nucleotide\", id=nucleotide_id, rettype=\"fasta\", retmode=\"text\")\n",
        "        fasta_record = fetch_handle.read()\n",
        "        fetch_handle.close()\n",
        "\n",
        "        # Output FASTA\n",
        "        print(fasta_record)\n",
        "    except Exception as e:\n",
        "        print(\"Error:\", e)"
      ],
      "metadata": {
        "id": "8U9bYTI9IJV-"
      },
      "execution_count": null,
      "outputs": []
    },
    {
      "cell_type": "code",
      "source": [
        "fetch_fasts(\"BRCA1\")"
      ],
      "metadata": {
        "id": "xmIAmYPJI3SV"
      },
      "execution_count": null,
      "outputs": []
    },
    {
      "cell_type": "code",
      "source": [],
      "metadata": {
        "id": "r48wwdEnI9fe"
      },
      "execution_count": null,
      "outputs": []
    }
  ]
}